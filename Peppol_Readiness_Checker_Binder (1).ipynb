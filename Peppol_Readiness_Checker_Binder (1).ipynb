{
 "cells": [
  {
   "cell_type": "markdown",
   "metadata": {},
   "source": [
    "# 🧾 Peppol Readiness Checker - Binder-Friendly Version"
   ]
  },
  {
   "cell_type": "code",
   "execution_count": null,
   "metadata": {},
   "outputs": [],
   "source": [
    "# Module 1: Imports and Constants\n",
    "import pandas as pd\n",
    "import io\n",
    "import ipywidgets as widgets\n",
    "from IPython.display import display, Markdown, HTML\n",
    "from fuzzywuzzy import process\n",
    "import random\n",
    "\n",
    "HTML(\"\"\"\n",
    "<style>\n",
    ".widget-label { color: #D04A02 !important; font-weight: bold; }\n",
    ".output { font-family: 'Segoe UI', sans-serif; }\n",
    "</style>\n",
    "\"\"\")"
   ]
  },
  {
   "cell_type": "markdown",
   "metadata": {},
   "source": [
    "## 📄 Upload CSV File"
   ]
  },
  {
   "cell_type": "code",
   "execution_count": null,
   "metadata": {},
   "outputs": [],
   "source": [
    "# Upload CSV manually in Binder\n",
    "upload = widgets.FileUpload(accept='.csv', multiple=False)\n",
    "display(upload)\n",
    "\n",
    "def read_uploaded_file(uploaded):\n",
    "    if uploaded.value:\n",
    "        fname = list(uploaded.value.keys())[0]\n",
    "        content = uploaded.value[fname]['content']\n",
    "        df = pd.read_csv(io.BytesIO(content))\n",
    "        df.columns = [col.strip().lower() for col in df.columns]\n",
    "        return df\n",
    "    return None"
   ]
  },
  {
   "cell_type": "code",
   "execution_count": null,
   "metadata": {},
   "outputs": [],
   "source": [
    "# Run this cell after uploading to read and display data\n",
    "df = read_uploaded_file(upload)\n",
    "if df is not None:\n",
    "    display(Markdown(\"### ✅ Data Loaded\"))\n",
    "    display(df.head())\n",
    "else:\n",
    "    print(\"⚠️ Please upload a CSV file to proceed.\")"
   ]
  },
  {
   "cell_type": "markdown",
   "metadata": {},
   "source": [
    "## 🔍 VAT and Peppol Simulated Checks"
   ]
  },
  {
   "cell_type": "code",
   "execution_count": null,
   "metadata": {},
   "outputs": [],
   "source": [
    "# Simulated VAT Check\n",
    "def simulate_vat_check(vat_number, country):\n",
    "    if pd.isna(vat_number) or vat_number.strip() == \"\":\n",
    "        return \"Missing\"\n",
    "    return \"Valid\" if random.choice([True, False]) else \"Invalid\"\n",
    "\n",
    "# Simulated Peppol Check\n",
    "def simulate_peppol_lookup(name, vat):\n",
    "    if vat and vat.startswith(\"VAT\"):\n",
    "        return (\"Yes\", f\"0088:{vat}\")\n",
    "    elif name and len(name) > 3:\n",
    "        return (\"Yes\", f\"0088:{name[:4].upper()}1234\")\n",
    "    return (\"No\", \"\")"
   ]
  },
  {
   "cell_type": "code",
   "execution_count": null,
   "metadata": {},
   "outputs": [],
   "source": [
    "# Run checks on uploaded data\n",
    "results = []\n",
    "if df is not None:\n",
    "    for index, row in df.iterrows():\n",
    "        name = row.get(\"name\", \"\")\n",
    "        vat = row.get(\"vat\", \"\") or \"\"\n",
    "        country = row.get(\"country\", \"\")\n",
    "\n",
    "        vat_status = simulate_vat_check(vat, country)\n",
    "        peppol_status, peppol_id = simulate_peppol_lookup(name, vat if vat_status == \"Valid\" else \"\")\n",
    "\n",
    "        results.append({\n",
    "            \"Name\": name,\n",
    "            \"VAT Number\": vat,\n",
    "            \"Country\": country,\n",
    "            \"VAT Valid\": vat_status,\n",
    "            \"Peppol Registered\": peppol_status,\n",
    "            \"Peppol ID\": peppol_id\n",
    "        })\n",
    "\n",
    "    results_df = pd.DataFrame(results)\n",
    "    display(Markdown(\"### ✅ Peppol Readiness Check Results\"))\n",
    "    display(results_df)\n",
    "else:\n",
    "    print(\"Upload a file and run the cell again.\")"
   ]
  },
  {
   "cell_type": "markdown",
   "metadata": {},
   "source": [
    "## 🤖 Chatbot Assistant"
   ]
  },
  {
   "cell_type": "code",
   "execution_count": null,
   "metadata": {},
   "outputs": [],
   "source": [
    "chat_input = widgets.Text(placeholder=\"Ask me anything about Peppol readiness...\", layout=widgets.Layout(width='70%'))\n",
    "chat_output = widgets.Output()\n",
    "\n",
    "def handle_chat(msg):\n",
    "    question = msg[\"new\"].lower()\n",
    "    response = \"\"\n",
    "    if \"peppol\" in question and \"id\" in question:\n",
    "        response = \"Peppol ID is typically in format '0088:XXXXXXXXXXXX'.\"\n",
    "    elif \"vat\" in question:\n",
    "        response = \"VAT validity is checked via national services or EU's VIES.\"\n",
    "    elif \"registered\" in question:\n",
    "        response = \"A party is Peppol-registered if they have a published SMP entry.\"\n",
    "    else:\n",
    "        response = \"I'm here to help! Ask about Peppol, VAT, or registration checks.\"\n",
    "    with chat_output:\n",
    "        print(f\"👤 You: {msg['new']}\")\n",
    "        print(f\"🤖 Bot: {response}\")\n",
    "    chat_input.value = \"\"\n",
    "\n",
    "chat_input.observe(handle_chat, names='value')\n",
    "display(Markdown(\"### 🤖 PwC Assistant Chatbot\"))\n",
    "display(chat_input)\n",
    "display(chat_output)"
   ]
  }
 ],
 "metadata": {
  "kernelspec": {
   "display_name": "Python 3",
   "language": "python",
   "name": "python3"
  },
  "language_info": {
   "name": "python"
  }
 },
 "nbformat": 4,
 "nbformat_minor": 2
}
